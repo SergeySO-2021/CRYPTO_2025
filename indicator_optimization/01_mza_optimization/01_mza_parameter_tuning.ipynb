{
  "cells": [
    {
      "cell_type": "markdown",
      "metadata": {},
      "source": [
        "# 🎯 ЭТАП 1: ОПТИМИЗАЦИЯ MZA КЛАССИФИКАТОРА\n",
        "\n",
        "## 📅 Дата: 26.10.2025\n",
        "## 🎯 Цель: Достичь максимального качества разделения рыночных зон\n",
        "\n",
        "### 📊 **Задачи:**\n",
        "1. **Оптимизировать динамические веса** для разных уровней волатильности\n",
        "2. **Настроить пороговые значения** для всех индикаторов MZA\n",
        "3. **Протестировать на разных таймфреймах** - найти оптимальные параметры\n",
        "4. **Создать систему автоматической настройки** параметров\n",
        "\n",
        "### 🏆 **Ожидаемые результаты:**\n",
        "- Максимальное качество разделения зон (Economic Value > 0.0005)\n",
        "- Оптимизированные параметры для всех таймфреймов\n",
        "- Система автоматической настройки параметров\n",
        "- Готовность к оптимизации индикаторов\n"
      ]
    },
    {
      "cell_type": "markdown",
      "metadata": {},
      "source": [
        "## 📦 ИМПОРТЫ И НАСТРОЙКИ\n"
      ]
    },
    {
      "cell_type": "code",
      "execution_count": null,
      "metadata": {},
      "outputs": [],
      "source": [
        "import pandas as pd\n",
        "import numpy as np\n",
        "import matplotlib.pyplot as plt\n",
        "import seaborn as sns\n",
        "from datetime import datetime\n",
        "import warnings\n",
        "warnings.filterwarnings('ignore')\n",
        "\n",
        "# Настройки визуализации\n",
        "plt.style.use('seaborn-v0_8')\n",
        "sns.set_palette(\"husl\")\n",
        "plt.rcParams['figure.figsize'] = (12, 8)\n",
        "plt.rcParams['font.size'] = 10\n",
        "\n",
        "# Настройки pandas\n",
        "pd.set_option('display.max_columns', None)\n",
        "pd.set_option('display.width', None)\n",
        "pd.set_option('display.max_colwidth', None)\n",
        "\n",
        "print(\"📦 Импорты загружены успешно\")\n",
        "print(f\"📅 Дата: {datetime.now().strftime('%d.%m.%Y %H:%M')}\")\n"
      ]
    },
    {
      "cell_type": "markdown",
      "metadata": {},
      "source": [
        "## 🔧 ЗАГРУЗКА СИСТЕМЫ ОПТИМИЗАЦИИ\n"
      ]
    },
    {
      "cell_type": "code",
      "execution_count": null,
      "metadata": {},
      "outputs": [],
      "source": [
        "# Импорт базовой системы оптимизации\n",
        "import sys\n",
        "sys.path.append('..')\n",
        "\n",
        "from base_optimization_system import IndicatorOptimizationSystem\n",
        "\n",
        "# Создание системы оптимизации с MZA классификатором\n",
        "mza_system = IndicatorOptimizationSystem(classifier_type='mza')\n",
        "\n",
        "print(\"✅ MZA система оптимизации загружена\")\n",
        "print(f\"📊 Доступные таймфреймы: {list(mza_system.data.keys())}\")\n",
        "print(f\"🔧 Классификатор: {mza_system.classifier_type}\")\n"
      ]
    }
  ],
  "metadata": {
    "language_info": {
      "name": "python"
    }
  },
  "nbformat": 4,
  "nbformat_minor": 2
}
