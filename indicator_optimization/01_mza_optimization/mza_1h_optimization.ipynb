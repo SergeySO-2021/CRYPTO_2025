{
  "cells": [
    {
      "cell_type": "markdown",
      "metadata": {},
      "source": [
        "# 🚀 ОПТИМИЗАЦИЯ MZA ДЛЯ ЧАСОВОГО ТАЙМФРЕЙМА (1h)\n",
        "\n",
        "## 🎯 ЦЕЛЬ\n",
        "Найти оптимальные параметры MZA для часового таймфрейма BTC/USDT\n",
        "\n",
        "## 📊 ОЖИДАЕМЫЕ РЕЗУЛЬТАТЫ\n",
        "- Оптимизированные параметры для 1h\n",
        "- Сравнение с 15m настройками\n",
        "- Рекомендации по использованию\n"
      ]
    },
    {
      "cell_type": "markdown",
      "metadata": {},
      "source": [
        "## 📚 ИМПОРТ БИБЛИОТЕК\n"
      ]
    },
    {
      "cell_type": "code",
      "execution_count": null,
      "metadata": {},
      "outputs": [],
      "source": [
        "import pandas as pd\n",
        "import numpy as np\n",
        "import matplotlib.pyplot as plt\n",
        "import seaborn as sns\n",
        "from datetime import datetime\n",
        "import warnings\n",
        "warnings.filterwarnings('ignore')\n",
        "\n",
        "# Настройка отображения\n",
        "plt.style.use('seaborn-v0_8')\n",
        "sns.set_palette(\"husl\")\n",
        "pd.set_option('display.max_columns', None)\n",
        "pd.set_option('display.width', None)\n",
        "\n",
        "print(\"✅ Библиотеки импортированы\")\n"
      ]
    },
    {
      "cell_type": "markdown",
      "metadata": {},
      "source": [
        "## 🔧 ИМПОРТ MZA МОДУЛЕЙ\n"
      ]
    },
    {
      "cell_type": "code",
      "execution_count": null,
      "metadata": {},
      "outputs": [],
      "source": [
        "import sys\n",
        "import os\n",
        "\n",
        "# Добавляем путь к модулям\n",
        "current_dir = os.getcwd()\n",
        "if 'indicator_optimization' in current_dir:\n",
        "    sys.path.append('.')\n",
        "else:\n",
        "    sys.path.append('./indicator_optimization/01_mza_optimization')\n",
        "\n",
        "try:\n",
        "    from data_loader import DataManager, load_btc_data\n",
        "    from mza_optimizer import MZAOptimizer, optimize_mza_all_timeframes\n",
        "    from accurate_mza_classifier import AccurateMZAClassifier\n",
        "    print(\"✅ MZA модули импортированы\")\n",
        "except ImportError as e:\n",
        "    print(f\"❌ Ошибка импорта: {e}\")\n",
        "    print(\"💡 Убедитесь, что файлы находятся в правильной директории\")\n"
      ]
    },
    {
      "cell_type": "markdown",
      "metadata": {},
      "source": [
        "## 📊 ЗАГРУЗКА ДАННЫХ ДЛЯ 1h\n"
      ]
    },
    {
      "cell_type": "code",
      "execution_count": null,
      "metadata": {},
      "outputs": [],
      "source": [
        "print(\"📊 ЗАГРУЗКА ДАННЫХ ДЛЯ ЧАСОВОГО ТАЙМФРЕЙМА\")\n",
        "print(\"=\" * 50)\n",
        "\n",
        "# Загружаем данные для всех таймфреймов\n",
        "btc_data = load_btc_data()\n",
        "\n",
        "if '1h' in btc_data:\n",
        "    df_1h = btc_data['1h']\n",
        "    print(f\"✅ Данные 1h загружены: {len(df_1h)} записей\")\n",
        "    print(f\"📅 Период: {df_1h.index[0]} - {df_1h.index[-1]}\")\n",
        "    print(f\"📊 Колонки: {list(df_1h.columns)}\")\n",
        "    \n",
        "    # Проверяем наличие volume\n",
        "    if 'volume' in df_1h.columns:\n",
        "        print(f\"✅ Volume доступен: {df_1h['volume'].mean():.0f} средний объем\")\n",
        "    else:\n",
        "        print(\"⚠️ Volume отсутствует, будет создан синтетический\")\n",
        "        \n",
        "    # Показываем статистику\n",
        "    print(\"\\n📈 СТАТИСТИКА ДАННЫХ 1h:\")\n",
        "    print(f\"   Средняя цена: ${df_1h['close'].mean():.2f}\")\n",
        "    print(f\"   Волатильность: {df_1h['close'].std():.2f}\")\n",
        "    print(f\"   Min цена: ${df_1h['close'].min():.2f}\")\n",
        "    print(f\"   Max цена: ${df_1h['close'].max():.2f}\")\n",
        "    \n",
        "else:\n",
        "    print(\"❌ Данные 1h не найдены\")\n",
        "    print(\"💡 Убедитесь, что файл df_btc_1h_complete.csv существует\")\n"
      ]
    },
    {
      "cell_type": "markdown",
      "metadata": {},
      "source": [
        "## 🧬 ОПТИМИЗАЦИЯ ДЛЯ 1h ТАЙМФРЕЙМА\n"
      ]
    },
    {
      "cell_type": "code",
      "execution_count": null,
      "metadata": {},
      "outputs": [],
      "source": [
        "print(\"🧬 ОПТИМИЗАЦИЯ MZA ДЛЯ ЧАСОВОГО ТАЙМФРЕЙМА\")\n",
        "print(\"=\" * 50)\n",
        "\n",
        "# Создаем оптимизатор для 1h\n",
        "optimizer_1h = MZAOptimizer(\n",
        "    population_size=30,      # Увеличиваем для лучшего качества\n",
        "    max_generations=50,      # Больше поколений для точности\n",
        "    mutation_rate=0.15,      # Стандартная мутация\n",
        "    crossover_rate=0.8,      # Высокий кроссовер\n",
        "    elite_size=5             # Элитные особи\n",
        ")\n",
        "\n",
        "print(f\"✅ Оптимизатор создан\")\n",
        "print(f\"📊 Размер популяции: {optimizer_1h.population_size}\")\n",
        "print(f\"🔄 Максимум поколений: {optimizer_1h.max_generations}\")\n",
        "print(f\"🧬 Вероятность мутации: {optimizer_1h.mutation_rate}\")\n",
        "print(f\"🔀 Вероятность кроссовера: {optimizer_1h.crossover_rate}\")\n",
        "print(f\"👑 Размер элиты: {optimizer_1h.elite_size}\")\n",
        "\n",
        "print(\"\\n⏰ Запускаем оптимизацию для 1h... (это может занять несколько минут)\")\n",
        "\n",
        "# Запускаем оптимизацию\n",
        "results_1h = optimizer_1h.optimize(df_1h, verbose=True)\n",
        "\n",
        "print(\"\\n🎉 ОПТИМИЗАЦИЯ ДЛЯ 1h ЗАВЕРШЕНА!\")\n",
        "print(f\"🏆 Лучший Economic Value: {results_1h['best_score']:.6f}\")\n",
        "print(f\"📊 Протестировано поколений: {results_1h['generations']}\")\n",
        "print(f\"🧬 Общее количество оценок: {results_1h['total_evaluations']}\")\n"
      ]
    },
    {
      "cell_type": "markdown",
      "metadata": {},
      "source": [
        "## 📊 АНАЛИЗ РЕЗУЛЬТАТОВ ОПТИМИЗАЦИИ 1h\n"
      ]
    },
    {
      "cell_type": "code",
      "execution_count": null,
      "metadata": {},
      "outputs": [],
      "source": [
        "print(\"📊 АНАЛИЗ РЕЗУЛЬТАТОВ ОПТИМИЗАЦИИ ДЛЯ 1h\")\n",
        "print(\"=\" * 50)\n",
        "\n",
        "best_params_1h = results_1h['best_params']\n",
        "\n",
        "print(\"🔧 ОПТИМАЛЬНЫЕ ПАРАМЕТРЫ ДЛЯ 1h:\")\n",
        "print(\"=\" * 40)\n",
        "\n",
        "print(\"\\n📊 Trend Indicators:\")\n",
        "print(f\"   adxLength: {best_params_1h['adxLength']}\")\n",
        "print(f\"   adxThreshold: {best_params_1h['adxThreshold']}\")\n",
        "print(f\"   fastMALength: {best_params_1h['fastMALength']}\")\n",
        "print(f\"   slowMALength: {best_params_1h['slowMALength']}\")\n",
        "\n",
        "print(\"\\n📊 Momentum Indicators:\")\n",
        "print(f\"   rsiLength: {best_params_1h['rsiLength']}\")\n",
        "print(f\"   stochKLength: {best_params_1h['stochKLength']}\")\n",
        "print(f\"   macdFast: {best_params_1h['macdFast']}\")\n",
        "print(f\"   macdSlow: {best_params_1h['macdSlow']}\")\n",
        "print(f\"   macdSignal: {best_params_1h['macdSignal']}\")\n",
        "\n",
        "print(\"\\n📊 Price Action Indicators:\")\n",
        "print(f\"   hhllRange: {best_params_1h['hhllRange']}\")\n",
        "print(f\"   haDojiRange: {best_params_1h['haDojiRange']}\")\n",
        "print(f\"   candleRangeLength: {best_params_1h['candleRangeLength']}\")\n",
        "\n",
        "print(\"\\n📊 Market Activity Indicators:\")\n",
        "print(f\"   bbLength: {best_params_1h['bbLength']}\")\n",
        "print(f\"   bbMultiplier: {best_params_1h['bbMultiplier']}\")\n",
        "print(f\"   atrLength: {best_params_1h['atrLength']}\")\n",
        "print(f\"   kcLength: {best_params_1h['kcLength']}\")\n",
        "print(f\"   kcMultiplier: {best_params_1h['kcMultiplier']}\")\n",
        "print(f\"   volumeMALength: {best_params_1h['volumeMALength']}\")\n",
        "\n",
        "print(\"\\n📊 Base Weights:\")\n",
        "print(f\"   trendWeightBase: {best_params_1h['trendWeightBase']}\")\n",
        "print(f\"   momentumWeightBase: {best_params_1h['momentumWeightBase']}\")\n",
        "print(f\"   priceActionWeightBase: {best_params_1h['priceActionWeightBase']}\")\n",
        "\n",
        "print(\"\\n📊 Stability Controls:\")\n",
        "print(f\"   useSmoothing: {best_params_1h['useSmoothing']}\")\n",
        "print(f\"   useHysteresis: {best_params_1h['useHysteresis']}\")\n"
      ]
    },
    {
      "cell_type": "markdown",
      "metadata": {},
      "source": [
        "## 🎯 РЕКОМЕНДАЦИИ ПО ИСПОЛЬЗОВАНИЮ\n"
      ]
    },
    {
      "cell_type": "code",
      "execution_count": null,
      "metadata": {},
      "outputs": [],
      "source": [
        "print(\"🎯 РЕКОМЕНДАЦИИ ПО ИСПОЛЬЗОВАНИЮ MZA НА 1h\")\n",
        "print(\"=\" * 50)\n",
        "\n",
        "print(\"\\n📊 ОСНОВНЫЕ ВЫВОДЫ:\")\n",
        "print(f\"   ✅ Оптимизация завершена успешно\")\n",
        "print(f\"   📈 Economic Value: {results_1h['best_score']:.6f}\")\n",
        "print(f\"   🔄 Поколений оптимизации: {results_1h['generations']}\")\n",
        "print(f\"   🧬 Всего оценок: {results_1h['total_evaluations']}\")\n",
        "\n",
        "print(\"\\n🚀 РЕКОМЕНДАЦИИ ДЛЯ ТОРГОВЛИ НА 1h:\")\n",
        "print(\"   📊 Используйте эти параметры для часового таймфрейма\")\n",
        "print(\"   ⏰ Сигналы будут менее частыми, но более надежными\")\n",
        "print(\"   🎯 Подходит для свинг-торговли и позиционных стратегий\")\n",
        "print(\"   ⚠️ Всегда подтверждайте сигналы другими индикаторами\")\n",
        "\n",
        "print(\"\\n📈 СРАВНЕНИЕ С 15m:\")\n",
        "if results_1h['best_score'] > 0.592989:\n",
        "    improvement = results_1h['best_score'] - 0.592989\n",
        "    print(f\"   ✅ 1h параметры лучше на {improvement:.6f}\")\n",
        "    print(f\"   📊 Улучшение: {improvement/0.592989*100:.2f}%\")\n",
        "elif results_1h['best_score'] < 0.592989:\n",
        "    decline = 0.592989 - results_1h['best_score']\n",
        "    print(f\"   ⚠️ 15m параметры лучше на {decline:.6f}\")\n",
        "    print(f\"   📊 Снижение: {decline/0.592989*100:.2f}%\")\n",
        "else:\n",
        "    print(\"   ⚖️ Результаты одинаковые\")\n",
        "\n",
        "print(\"\\n🎉 ОПТИМИЗАЦИЯ ДЛЯ 1h ЗАВЕРШЕНА!\")\n",
        "print(\"   🚀 Готово к использованию в TradingView!\")\n"
      ]
    }
  ],
  "metadata": {
    "language_info": {
      "name": "python"
    }
  },
  "nbformat": 4,
  "nbformat_minor": 2
}
