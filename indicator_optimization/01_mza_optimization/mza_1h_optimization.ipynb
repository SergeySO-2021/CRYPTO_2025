{
  "cells": [
    {
      "cell_type": "markdown",
      "metadata": {},
      "source": [
        "# 🚀 ОПТИМИЗАЦИЯ MZA ДЛЯ ЧАСОВОГО ТАЙМФРЕЙМА (1h)\n",
        "\n",
        "## 🎯 ЦЕЛЬ\n",
        "Найти оптимальные параметры MZA для часового таймфрейма BTC/USDT\n",
        "\n",
        "## 📊 ОЖИДАЕМЫЕ РЕЗУЛЬТАТЫ\n",
        "- Оптимизированные параметры для 1h\n",
        "- Сравнение с 15m настройками\n",
        "- Рекомендации по использованию\n"
      ]
    },
    {
      "cell_type": "markdown",
      "metadata": {},
      "source": [
        "## 📚 ИМПОРТ БИБЛИОТЕК\n"
      ]
    },
    {
      "cell_type": "code",
      "execution_count": 1,
      "metadata": {},
      "outputs": [
        {
          "name": "stdout",
          "output_type": "stream",
          "text": [
            "✅ Библиотеки импортированы\n"
          ]
        }
      ],
      "source": [
        "import pandas as pd\n",
        "import numpy as np\n",
        "import matplotlib.pyplot as plt\n",
        "import seaborn as sns\n",
        "from datetime import datetime\n",
        "import warnings\n",
        "warnings.filterwarnings('ignore')\n",
        "\n",
        "# Настройка отображения\n",
        "plt.style.use('seaborn-v0_8')\n",
        "sns.set_palette(\"husl\")\n",
        "pd.set_option('display.max_columns', None)\n",
        "pd.set_option('display.width', None)\n",
        "\n",
        "print(\"✅ Библиотеки импортированы\")\n"
      ]
    },
    {
      "cell_type": "markdown",
      "metadata": {},
      "source": [
        "## 🔧 ИМПОРТ MZA МОДУЛЕЙ\n"
      ]
    },
    {
      "cell_type": "code",
      "execution_count": 2,
      "metadata": {},
      "outputs": [
        {
          "name": "stdout",
          "output_type": "stream",
          "text": [
            "✅ MZA модули импортированы\n"
          ]
        }
      ],
      "source": [
        "import sys\n",
        "import os\n",
        "\n",
        "# Добавляем путь к модулям\n",
        "current_dir = os.getcwd()\n",
        "if 'indicator_optimization' in current_dir:\n",
        "    sys.path.append('.')\n",
        "else:\n",
        "    sys.path.append('./indicator_optimization/01_mza_optimization')\n",
        "\n",
        "try:\n",
        "    from data_loader import DataManager, load_btc_data\n",
        "    from mza_optimizer import MZAOptimizer, optimize_mza_all_timeframes\n",
        "    from accurate_mza_classifier import AccurateMZAClassifier\n",
        "    print(\"✅ MZA модули импортированы\")\n",
        "except ImportError as e:\n",
        "    print(f\"❌ Ошибка импорта: {e}\")\n",
        "    print(\"💡 Убедитесь, что файлы находятся в правильной директории\")\n"
      ]
    },
    {
      "cell_type": "markdown",
      "metadata": {},
      "source": [
        "## 📊 ЗАГРУЗКА ДАННЫХ ДЛЯ 1h\n"
      ]
    },
    {
      "cell_type": "code",
      "execution_count": 3,
      "metadata": {},
      "outputs": [
        {
          "name": "stdout",
          "output_type": "stream",
          "text": [
            "📊 ЗАГРУЗКА ДАННЫХ ДЛЯ ЧАСОВОГО ТАЙМФРЕЙМА\n",
            "==================================================\n",
            "📊 ЗАГРУЗКА ДАННЫХ BTC ИЗ ФАЙЛОВ\n",
            "========================================\n",
            "✅ 15m: Загружены данные из df_btc_15m_complete.csv (61000 записей)\n",
            "✅ 30m: Загружены данные из df_btc_30m_complete.csv (30000 записей)\n",
            "✅ 1h: Загружены данные из df_btc_1h_complete.csv (15000 записей)\n",
            "✅ 4h: Загружены данные из df_btc_4h_complete.csv (3000 записей)\n",
            "✅ 1d: Загружены данные из df_btc_1d.csv (401 записей)\n",
            "⚠️ 1d: Volume отсутствует, добавляем синтетический\n",
            "\n",
            "📈 ИТОГО: 109,401 записей\n",
            "📊 Таймфреймов: 5\n",
            "✅ Данные 1h загружены: 15000 записей\n",
            "📅 Период: 0 - 14999\n",
            "📊 Колонки: ['timestamps', 'open', 'high', 'low', 'close', 'volume']\n",
            "✅ Volume доступен: 1170 средний объем\n",
            "\n",
            "📈 СТАТИСТИКА ДАННЫХ 1h:\n",
            "   Средняя цена: $85337.86\n",
            "   Волатильность: 21251.18\n",
            "   Min цена: $47626.58\n",
            "   Max цена: $126011.18\n"
          ]
        }
      ],
      "source": [
        "print(\"📊 ЗАГРУЗКА ДАННЫХ ДЛЯ ЧАСОВОГО ТАЙМФРЕЙМА\")\n",
        "print(\"=\" * 50)\n",
        "\n",
        "# Загружаем данные для всех таймфреймов\n",
        "btc_data = load_btc_data()\n",
        "\n",
        "if '1h' in btc_data:\n",
        "    df_1h = btc_data['1h']\n",
        "    print(f\"✅ Данные 1h загружены: {len(df_1h)} записей\")\n",
        "    print(f\"📅 Период: {df_1h.index[0]} - {df_1h.index[-1]}\")\n",
        "    print(f\"📊 Колонки: {list(df_1h.columns)}\")\n",
        "    \n",
        "    # Проверяем наличие volume\n",
        "    if 'volume' in df_1h.columns:\n",
        "        print(f\"✅ Volume доступен: {df_1h['volume'].mean():.0f} средний объем\")\n",
        "    else:\n",
        "        print(\"⚠️ Volume отсутствует, будет создан синтетический\")\n",
        "        \n",
        "    # Показываем статистику\n",
        "    print(\"\\n📈 СТАТИСТИКА ДАННЫХ 1h:\")\n",
        "    print(f\"   Средняя цена: ${df_1h['close'].mean():.2f}\")\n",
        "    print(f\"   Волатильность: {df_1h['close'].std():.2f}\")\n",
        "    print(f\"   Min цена: ${df_1h['close'].min():.2f}\")\n",
        "    print(f\"   Max цена: ${df_1h['close'].max():.2f}\")\n",
        "    \n",
        "else:\n",
        "    print(\"❌ Данные 1h не найдены\")\n",
        "    print(\"💡 Убедитесь, что файл df_btc_1h_complete.csv существует\")\n"
      ]
    },
    {
      "cell_type": "markdown",
      "metadata": {},
      "source": [
        "## 🧬 ОПТИМИЗАЦИЯ ДЛЯ 1h ТАЙМФРЕЙМА\n"
      ]
    },
    {
      "cell_type": "code",
      "execution_count": 4,
      "metadata": {},
      "outputs": [
        {
          "name": "stdout",
          "output_type": "stream",
          "text": [
            "🧬 ОПТИМИЗАЦИЯ MZA ДЛЯ ЧАСОВОГО ТАЙМФРЕЙМА\n",
            "==================================================\n",
            "✅ Оптимизатор создан\n",
            "📊 Размер популяции: 30\n",
            "🔄 Максимум поколений: 50\n",
            "🧬 Вероятность мутации: 0.15\n",
            "🔀 Вероятность кроссовера: 0.8\n",
            "👑 Размер элиты: 5\n",
            "\n",
            "⏰ Запускаем оптимизацию для 1h... (это может занять несколько минут)\n",
            "🚀 ЗАПУСК ОПТИМИЗАЦИИ MZA\n",
            "==================================================\n",
            "📊 Размер популяции: 30\n",
            "🔄 Максимум поколений: 50\n",
            "🧬 Вероятность мутации: 0.15\n",
            "🔀 Вероятность кроссовера: 0.8\n",
            "👑 Размер элиты: 5\n",
            "📊 Кросс-валидация: 3 фолдов\n",
            "🛡️ Регуляризация: 0.01\n",
            "🎯 Параметров для оптимизации: 23\n",
            "==================================================\n",
            "🔄 Поколение   0: Лучший = 0.573763, Средний = 0.550412\n",
            "🔄 Поколение  10: Лучший = 0.574801, Средний = 0.570566\n",
            "🔄 Поколение  20: Лучший = 0.575030, Средний = 0.569595\n",
            "🔄 Поколение  30: Лучший = 0.575030, Средний = 0.570657\n",
            "🔄 Поколение  40: Лучший = 0.575030, Средний = 0.570794\n",
            "\n",
            "🎉 ОПТИМИЗАЦИЯ ЗАВЕРШЕНА!\n",
            "🏆 Лучший Economic Value: 0.575030\n",
            "📊 Протестировано поколений: 50\n",
            "🧬 Общее количество оценок: 1500\n",
            "\n",
            "🎉 ОПТИМИЗАЦИЯ ДЛЯ 1h ЗАВЕРШЕНА!\n",
            "🏆 Лучший Economic Value: 0.575030\n",
            "📊 Протестировано поколений: 50\n",
            "🧬 Общее количество оценок: 1500\n"
          ]
        }
      ],
      "source": [
        "print(\"🧬 ОПТИМИЗАЦИЯ MZA ДЛЯ ЧАСОВОГО ТАЙМФРЕЙМА\")\n",
        "print(\"=\" * 50)\n",
        "\n",
        "# Создаем оптимизатор для 1h\n",
        "optimizer_1h = MZAOptimizer(\n",
        "    population_size=30,      # Увеличиваем для лучшего качества\n",
        "    max_generations=50,      # Больше поколений для точности\n",
        "    mutation_rate=0.15,      # Стандартная мутация\n",
        "    crossover_rate=0.8,      # Высокий кроссовер\n",
        "    elite_size=5             # Элитные особи\n",
        ")\n",
        "\n",
        "print(f\"✅ Оптимизатор создан\")\n",
        "print(f\"📊 Размер популяции: {optimizer_1h.population_size}\")\n",
        "print(f\"🔄 Максимум поколений: {optimizer_1h.max_generations}\")\n",
        "print(f\"🧬 Вероятность мутации: {optimizer_1h.mutation_rate}\")\n",
        "print(f\"🔀 Вероятность кроссовера: {optimizer_1h.crossover_rate}\")\n",
        "print(f\"👑 Размер элиты: {optimizer_1h.elite_size}\")\n",
        "\n",
        "print(\"\\n⏰ Запускаем оптимизацию для 1h... (это может занять несколько минут)\")\n",
        "\n",
        "# Запускаем оптимизацию\n",
        "results_1h = optimizer_1h.optimize(df_1h, verbose=True)\n",
        "\n",
        "print(\"\\n🎉 ОПТИМИЗАЦИЯ ДЛЯ 1h ЗАВЕРШЕНА!\")\n",
        "print(f\"🏆 Лучший Economic Value: {results_1h['best_score']:.6f}\")\n",
        "print(f\"📊 Протестировано поколений: {results_1h['generations']}\")\n",
        "print(f\"🧬 Общее количество оценок: {results_1h['total_evaluations']}\")\n"
      ]
    },
    {
      "cell_type": "markdown",
      "metadata": {},
      "source": [
        "## 📊 АНАЛИЗ РЕЗУЛЬТАТОВ ОПТИМИЗАЦИИ 1h\n"
      ]
    },
    {
      "cell_type": "code",
      "execution_count": 6,
      "metadata": {},
      "outputs": [
        {
          "name": "stdout",
          "output_type": "stream",
          "text": [
            "📊 АНАЛИЗ РЕЗУЛЬТАТОВ ОПТИМИЗАЦИИ ДЛЯ 1h\n",
            "==================================================\n",
            "🔍 Проверяем содержимое results_1h:\n",
            "Тип: <class 'dict'>\n",
            "Ключи: ['best_score', 'best_parameters', 'generations', 'total_evaluations', 'generation_history']\n",
            "✅ Найдены best_parameters\n",
            "\n",
            "🔧 ОПТИМАЛЬНЫЕ ПАРАМЕТРЫ ДЛЯ 1h:\n",
            "========================================\n",
            "\n",
            "📊 Trend Indicators:\n",
            "   adxLength: 17\n",
            "   adxThreshold: 19\n",
            "   fastMALength: 15\n",
            "   slowMALength: 40\n",
            "\n",
            "📊 Momentum Indicators:\n",
            "   rsiLength: 20\n",
            "   stochKLength: 12\n",
            "   macdFast: 12\n",
            "   macdSlow: 25\n",
            "   macdSignal: 10\n",
            "\n",
            "📊 Price Action Indicators:\n",
            "   hhllRange: 26\n",
            "   haDojiRange: 5\n",
            "   candleRangeLength: 15\n",
            "\n",
            "📊 Market Activity Indicators:\n",
            "   bbLength: 24\n",
            "   bbMultiplier: 2.4\n",
            "   atrLength: 13\n",
            "   kcLength: 16\n",
            "   kcMultiplier: 1.4\n",
            "   volumeMALength: 20\n",
            "\n",
            "📊 Base Weights:\n",
            "   trendWeightBase: 37\n",
            "   momentumWeightBase: 20\n",
            "   priceActionWeightBase: 23\n",
            "\n",
            "📊 Stability Controls:\n",
            "   useSmoothing: True\n",
            "   useHysteresis: True\n"
          ]
        }
      ],
      "source": [
        "print(\"📊 АНАЛИЗ РЕЗУЛЬТАТОВ ОПТИМИЗАЦИИ ДЛЯ 1h\")\n",
        "print(\"=\" * 50)\n",
        "\n",
        "# Сначала проверим, что содержится в results_1h\n",
        "print(\"🔍 Проверяем содержимое results_1h:\")\n",
        "print(f\"Тип: {type(results_1h)}\")\n",
        "print(f\"Ключи: {list(results_1h.keys()) if isinstance(results_1h, dict) else 'Не словарь'}\")\n",
        "\n",
        "# Попробуем получить параметры разными способами\n",
        "if isinstance(results_1h, dict):\n",
        "    if 'best_params' in results_1h:\n",
        "        best_params_1h = results_1h['best_params']\n",
        "        print(\"✅ Найдены best_params\")\n",
        "    elif 'best_parameters' in results_1h:\n",
        "        best_params_1h = results_1h['best_parameters']\n",
        "        print(\"✅ Найдены best_parameters\")\n",
        "    elif 'parameters' in results_1h:\n",
        "        best_params_1h = results_1h['parameters']\n",
        "        print(\"✅ Найдены parameters\")\n",
        "    else:\n",
        "        print(\"❌ Параметры не найдены в results_1h\")\n",
        "        print(\"Доступные ключи:\", list(results_1h.keys()))\n",
        "        best_params_1h = None\n",
        "else:\n",
        "    print(\"❌ results_1h не является словарем\")\n",
        "    best_params_1h = None\n",
        "\n",
        "if best_params_1h is not None:\n",
        "    print(\"\\n🔧 ОПТИМАЛЬНЫЕ ПАРАМЕТРЫ ДЛЯ 1h:\")\n",
        "    print(\"=\" * 40)\n",
        "\n",
        "    print(\"\\n📊 Trend Indicators:\")\n",
        "    print(f\"   adxLength: {best_params_1h.get('adxLength', 'N/A')}\")\n",
        "    print(f\"   adxThreshold: {best_params_1h.get('adxThreshold', 'N/A')}\")\n",
        "    print(f\"   fastMALength: {best_params_1h.get('fastMALength', 'N/A')}\")\n",
        "    print(f\"   slowMALength: {best_params_1h.get('slowMALength', 'N/A')}\")\n",
        "\n",
        "    print(\"\\n📊 Momentum Indicators:\")\n",
        "    print(f\"   rsiLength: {best_params_1h.get('rsiLength', 'N/A')}\")\n",
        "    print(f\"   stochKLength: {best_params_1h.get('stochKLength', 'N/A')}\")\n",
        "    print(f\"   macdFast: {best_params_1h.get('macdFast', 'N/A')}\")\n",
        "    print(f\"   macdSlow: {best_params_1h.get('macdSlow', 'N/A')}\")\n",
        "    print(f\"   macdSignal: {best_params_1h.get('macdSignal', 'N/A')}\")\n",
        "\n",
        "    print(\"\\n📊 Price Action Indicators:\")\n",
        "    print(f\"   hhllRange: {best_params_1h.get('hhllRange', 'N/A')}\")\n",
        "    print(f\"   haDojiRange: {best_params_1h.get('haDojiRange', 'N/A')}\")\n",
        "    print(f\"   candleRangeLength: {best_params_1h.get('candleRangeLength', 'N/A')}\")\n",
        "\n",
        "    print(\"\\n📊 Market Activity Indicators:\")\n",
        "    print(f\"   bbLength: {best_params_1h.get('bbLength', 'N/A')}\")\n",
        "    print(f\"   bbMultiplier: {best_params_1h.get('bbMultiplier', 'N/A')}\")\n",
        "    print(f\"   atrLength: {best_params_1h.get('atrLength', 'N/A')}\")\n",
        "    print(f\"   kcLength: {best_params_1h.get('kcLength', 'N/A')}\")\n",
        "    print(f\"   kcMultiplier: {best_params_1h.get('kcMultiplier', 'N/A')}\")\n",
        "    print(f\"   volumeMALength: {best_params_1h.get('volumeMALength', 'N/A')}\")\n",
        "\n",
        "    print(\"\\n📊 Base Weights:\")\n",
        "    print(f\"   trendWeightBase: {best_params_1h.get('trendWeightBase', 'N/A')}\")\n",
        "    print(f\"   momentumWeightBase: {best_params_1h.get('momentumWeightBase', 'N/A')}\")\n",
        "    print(f\"   priceActionWeightBase: {best_params_1h.get('priceActionWeightBase', 'N/A')}\")\n",
        "\n",
        "    print(\"\\n📊 Stability Controls:\")\n",
        "    print(f\"   useSmoothing: {best_params_1h.get('useSmoothing', 'N/A')}\")\n",
        "    print(f\"   useHysteresis: {best_params_1h.get('useHysteresis', 'N/A')}\")\n",
        "else:\n",
        "    print(\"\\n❌ Не удалось получить параметры для анализа\")\n"
      ]
    },
    {
      "cell_type": "markdown",
      "metadata": {},
      "source": [
        "# Проверяем результаты оптимизации\n",
        "print(\"\\n📊 РЕЗУЛЬТАТЫ ОПТИМИЗАЦИИ:\")\n",
        "print(\"=\" * 40)\n",
        "\n",
        "if isinstance(results_1h, dict):\n",
        "    print(f\"🏆 Лучший Economic Value: {results_1h.get('best_score', 'N/A')}\")\n",
        "    print(f\"📊 Протестировано поколений: {results_1h.get('generations', 'N/A')}\")\n",
        "    print(f\"🧬 Общее количество оценок: {results_1h.get('total_evaluations', 'N/A')}\")\n",
        "    \n",
        "    # Показываем все доступные ключи\n",
        "    print(f\"\\n🔍 Все доступные ключи в results_1h:\")\n",
        "    for key, value in results_1h.items():\n",
        "        if isinstance(value, (int, float, str, bool)):\n",
        "            print(f\"   {key}: {value}\")\n",
        "        else:\n",
        "            print(f\"   {key}: {type(value)} (сложный объект)\")\n",
        "else:\n",
        "    print(\"❌ results_1h не является словарем\")\n"
      ]
    },
    {
      "cell_type": "code",
      "execution_count": 7,
      "metadata": {},
      "outputs": [],
      "source": [
        "## 🎯 РЕКОМЕНДАЦИИ ПО ИСПОЛЬЗОВАНИЮ\n"
      ]
    },
    {
      "cell_type": "code",
      "execution_count": 8,
      "metadata": {},
      "outputs": [
        {
          "name": "stdout",
          "output_type": "stream",
          "text": [
            "🎯 РЕКОМЕНДАЦИИ ПО ИСПОЛЬЗОВАНИЮ MZA НА 1h\n",
            "==================================================\n",
            "\n",
            "📊 ОСНОВНЫЕ ВЫВОДЫ:\n",
            "   ✅ Оптимизация завершена успешно\n",
            "   📈 Economic Value: 0.575030\n",
            "   🔄 Поколений оптимизации: 50\n",
            "   🧬 Всего оценок: 1500\n",
            "\n",
            "🚀 РЕКОМЕНДАЦИИ ДЛЯ ТОРГОВЛИ НА 1h:\n",
            "   📊 Используйте эти параметры для часового таймфрейма\n",
            "   ⏰ Сигналы будут менее частыми, но более надежными\n",
            "   🎯 Подходит для свинг-торговли и позиционных стратегий\n",
            "   ⚠️ Всегда подтверждайте сигналы другими индикаторами\n",
            "\n",
            "📈 СРАВНЕНИЕ С 15m:\n",
            "   ⚠️ 15m параметры лучше на 0.017959\n",
            "   📊 Снижение: 3.03%\n",
            "\n",
            "🎉 ОПТИМИЗАЦИЯ ДЛЯ 1h ЗАВЕРШЕНА!\n",
            "   🚀 Готово к использованию в TradingView!\n"
          ]
        }
      ],
      "source": [
        "print(\"🎯 РЕКОМЕНДАЦИИ ПО ИСПОЛЬЗОВАНИЮ MZA НА 1h\")\n",
        "print(\"=\" * 50)\n",
        "\n",
        "# Безопасное получение результатов\n",
        "best_score = results_1h.get('best_score', 0) if isinstance(results_1h, dict) else 0\n",
        "generations = results_1h.get('generations', 0) if isinstance(results_1h, dict) else 0\n",
        "total_evaluations = results_1h.get('total_evaluations', 0) if isinstance(results_1h, dict) else 0\n",
        "\n",
        "print(\"\\n📊 ОСНОВНЫЕ ВЫВОДЫ:\")\n",
        "print(f\"   ✅ Оптимизация завершена успешно\")\n",
        "print(f\"   📈 Economic Value: {best_score:.6f}\")\n",
        "print(f\"   🔄 Поколений оптимизации: {generations}\")\n",
        "print(f\"   🧬 Всего оценок: {total_evaluations}\")\n",
        "\n",
        "print(\"\\n🚀 РЕКОМЕНДАЦИИ ДЛЯ ТОРГОВЛИ НА 1h:\")\n",
        "print(\"   📊 Используйте эти параметры для часового таймфрейма\")\n",
        "print(\"   ⏰ Сигналы будут менее частыми, но более надежными\")\n",
        "print(\"   🎯 Подходит для свинг-торговли и позиционных стратегий\")\n",
        "print(\"   ⚠️ Всегда подтверждайте сигналы другими индикаторами\")\n",
        "\n",
        "print(\"\\n📈 СРАВНЕНИЕ С 15m:\")\n",
        "reference_score = 0.592989  # Ваш результат на 15m\n",
        "if best_score > reference_score:\n",
        "    improvement = best_score - reference_score\n",
        "    print(f\"   ✅ 1h параметры лучше на {improvement:.6f}\")\n",
        "    print(f\"   📊 Улучшение: {improvement/reference_score*100:.2f}%\")\n",
        "elif best_score < reference_score:\n",
        "    decline = reference_score - best_score\n",
        "    print(f\"   ⚠️ 15m параметры лучше на {decline:.6f}\")\n",
        "    print(f\"   📊 Снижение: {decline/reference_score*100:.2f}%\")\n",
        "else:\n",
        "    print(\"   ⚖️ Результаты одинаковые\")\n",
        "\n",
        "print(\"\\n🎉 ОПТИМИЗАЦИЯ ДЛЯ 1h ЗАВЕРШЕНА!\")\n",
        "print(\"   🚀 Готово к использованию в TradingView!\")\n"
      ]
    }
  ],
  "metadata": {
    "kernelspec": {
      "display_name": "base",
      "language": "python",
      "name": "python3"
    },
    "language_info": {
      "codemirror_mode": {
        "name": "ipython",
        "version": 3
      },
      "file_extension": ".py",
      "mimetype": "text/x-python",
      "name": "python",
      "nbconvert_exporter": "python",
      "pygments_lexer": "ipython3",
      "version": "3.12.7"
    }
  },
  "nbformat": 4,
  "nbformat_minor": 2
}
