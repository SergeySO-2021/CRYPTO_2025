{
  "cells": [
    {
      "cell_type": "markdown",
      "metadata": {},
      "source": [
        "# 01. Подготовка данных для сравнения классификаторов\n",
        "\n",
        "## Цель\n",
        "Подготовить и загрузить данные BTC для всех таймфреймов, провести первичный анализ качества данных.\n",
        "\n",
        "## Задачи\n",
        "1. Загрузить данные BTC для всех таймфреймов (15m, 30m, 1h, 4h, 1d)\n",
        "2. Проверить качество данных (пропуски, выбросы)\n",
        "3. Создать единый формат данных\n",
        "4. Сохранить подготовленные данные\n"
      ]
    },
    {
      "cell_type": "code",
      "execution_count": 1,
      "metadata": {},
      "outputs": [
        {
          "name": "stdout",
          "output_type": "stream",
          "text": [
            "Библиотеки загружены успешно!\n"
          ]
        }
      ],
      "source": [
        "import pandas as pd\n",
        "import numpy as np\n",
        "import matplotlib.pyplot as plt\n",
        "import seaborn as sns\n",
        "from datetime import datetime, timedelta\n",
        "import warnings\n",
        "warnings.filterwarnings('ignore')\n",
        "\n",
        "# Настройка отображения\n",
        "plt.style.use('seaborn-v0_8')\n",
        "pd.set_option('display.max_columns', None)\n",
        "pd.set_option('display.width', None)\n",
        "\n",
        "print(\"Библиотеки загружены успешно!\")\n"
      ]
    },
    {
      "cell_type": "code",
      "execution_count": 2,
      "metadata": {},
      "outputs": [
        {
          "name": "stdout",
          "output_type": "stream",
          "text": [
            "=== ЗАГРУЗКА ДАННЫХ BTC ===\n",
            "✅ 15m: 38465 записей, период: 2024-01-22 00:00:00 - 2025-02-25 16:00:00\n",
            "✅ 30m: 19233 записей, период: 2024-01-22 00:00:00 - 2025-02-25 16:00:00\n",
            "✅ 1h: 9617 записей, период: 2024-01-22 00:00:00 - 2025-02-25 16:00:00\n",
            "✅ 4h: 2405 записей, период: 2024-01-22 00:00:00 - 2025-02-25 16:00:00\n",
            "✅ 1d: 401 записей, период: 2024-01-22 00:00:00 - 2025-02-25 00:00:00\n",
            "\n",
            "Загружено 5 таймфреймов\n"
          ]
        }
      ],
      "source": [
        "# Загрузка данных BTC для всех таймфреймов\n",
        "timeframes = ['15m', '30m', '1h', '4h', '1d']\n",
        "data = {}\n",
        "\n",
        "print(\"=== ЗАГРУЗКА ДАННЫХ BTC ===\")\n",
        "\n",
        "for tf in timeframes:\n",
        "    try:\n",
        "        # Загружаем данные из папки indicators/data_frames\n",
        "        file_path = f'../../indicators/data_frames/df_btc_{tf}.csv'\n",
        "        df = pd.read_csv(file_path)\n",
        "        \n",
        "        # Преобразуем timestamps в datetime\n",
        "        df['timestamps'] = pd.to_datetime(df['timestamps'])\n",
        "        df.set_index('timestamps', inplace=True)\n",
        "        \n",
        "        # Сохраняем данные\n",
        "        data[tf] = df\n",
        "        \n",
        "        print(f\"✅ {tf}: {len(df)} записей, период: {df.index[0]} - {df.index[-1]}\")\n",
        "        \n",
        "    except Exception as e:\n",
        "        print(f\"❌ Ошибка загрузки {tf}: {e}\")\n",
        "\n",
        "print(f\"\\nЗагружено {len(data)} таймфреймов\")\n"
      ]
    }
  ],
  "metadata": {
    "kernelspec": {
      "display_name": "base",
      "language": "python",
      "name": "python3"
    },
    "language_info": {
      "codemirror_mode": {
        "name": "ipython",
        "version": 3
      },
      "file_extension": ".py",
      "mimetype": "text/x-python",
      "name": "python",
      "nbconvert_exporter": "python",
      "pygments_lexer": "ipython3",
      "version": "3.12.7"
    }
  },
  "nbformat": 4,
  "nbformat_minor": 2
}
